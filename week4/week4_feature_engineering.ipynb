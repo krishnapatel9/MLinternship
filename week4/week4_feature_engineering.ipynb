{
 "cells": [
  {
   "cell_type": "code",
   "execution_count": 16,
   "id": "da34617a-7a7c-46c5-b4a3-43c13c2dae68",
   "metadata": {},
   "outputs": [],
   "source": [
    "#import libraries\n",
    "import pandas as pd\n",
    "import numpy as np"
   ]
  },
  {
   "cell_type": "code",
   "execution_count": 17,
   "id": "33fab95b-1779-4b2c-b4ea-52fe3f03ac54",
   "metadata": {},
   "outputs": [],
   "source": [
    "#load dataset\n",
    "from sklearn.datasets import fetch_california_housing"
   ]
  },
  {
   "cell_type": "code",
   "execution_count": 18,
   "id": "87b3db14-dc84-4c3a-8a5e-5ddaabdf2353",
   "metadata": {},
   "outputs": [],
   "source": [
    "data = fetch_california_housing()"
   ]
  },
  {
   "cell_type": "code",
   "execution_count": 19,
   "id": "88e702a3-0b83-40d5-bc2a-7cdb920440b2",
   "metadata": {},
   "outputs": [],
   "source": [
    "#assign variables\n",
    "X = pd.DataFrame(data.data, columns=data.feature_names)\n",
    "y = data.target"
   ]
  },
  {
   "cell_type": "code",
   "execution_count": 20,
   "id": "3b3d2c18-46f0-4716-98b8-a0748a6c33c4",
   "metadata": {},
   "outputs": [],
   "source": [
    "#split the data\n",
    "from sklearn.model_selection import train_test_split\n",
    "X_train, X_test, y_train, y_test = train_test_split(X, y, test_size=0.2, random_state=42)"
   ]
  },
  {
   "cell_type": "code",
   "execution_count": 21,
   "id": "ba075a07-df11-4bb1-af0f-9da44a2fdf38",
   "metadata": {},
   "outputs": [
    {
     "name": "stdout",
     "output_type": "stream",
     "text": [
      "RMSE (Raw Data): 0.5053\n"
     ]
    }
   ],
   "source": [
    "#training raw data with randomforest\n",
    "from sklearn.ensemble import RandomForestRegressor\n",
    "from sklearn.metrics import mean_squared_error\n",
    "\n",
    "model_raw = RandomForestRegressor(n_estimators=100, random_state=42)\n",
    "model_raw.fit(X_train, y_train)\n",
    "y_pred_raw = model_raw.predict(X_test)\n",
    "rmse_raw = np.sqrt(mean_squared_error(y_test, y_pred_raw))\n",
    "print(f\"RMSE (Raw Data): {rmse_raw:.4f}\")"
   ]
  },
  {
   "cell_type": "code",
   "execution_count": 22,
   "id": "1e586f42-3652-4d58-945e-1ac95331ae26",
   "metadata": {},
   "outputs": [],
   "source": [
    "#transforming using standard scalar\n",
    "from sklearn.preprocessing import StandardScaler\n",
    "from scipy.stats import skew\n",
    "\n",
    "skewed_features = X_train.apply(lambda x: skew(x)).sort_values(ascending=False)\n",
    "skewed_features = skewed_features[abs(skewed_features) > 0.5].index\n",
    "\n",
    "X_train_transformed = X_train.copy()\n",
    "X_test_transformed = X_test.copy()\n",
    "\n",
    "for feature in skewed_features:\n",
    "    X_train_transformed[feature] = np.log1p(X_train_transformed[feature])\n",
    "    X_test_transformed[feature] = np.log1p(X_test_transformed[feature])"
   ]
  },
  {
   "cell_type": "code",
   "execution_count": 23,
   "id": "c9a9d580-2ac5-4ce3-bbc6-9cca4022fd97",
   "metadata": {},
   "outputs": [],
   "source": [
    "scaler = StandardScaler()\n",
    "X_train_scaled = scaler.fit_transform(X_train_transformed)\n",
    "X_test_scaled = scaler.transform(X_test_transformed)\n",
    "\n",
    "# Convert back to DataFrame\n",
    "X_train_scaled = pd.DataFrame(X_train_scaled, columns=X_train.columns)\n",
    "X_test_scaled = pd.DataFrame(X_test_scaled, columns=X_test.columns)"
   ]
  },
  {
   "cell_type": "code",
   "execution_count": 24,
   "id": "9e8bf7a3-aa20-496d-81ca-43d5ebd64749",
   "metadata": {},
   "outputs": [
    {
     "name": "stdout",
     "output_type": "stream",
     "text": [
      "RMSE (Transformed Data): 0.5049\n"
     ]
    }
   ],
   "source": [
    "# Train Random Forest on transformed data\n",
    "model_transformed = RandomForestRegressor(n_estimators=100, random_state=42)\n",
    "model_transformed.fit(X_train_scaled, y_train)\n",
    "y_pred_transformed = model_transformed.predict(X_test_scaled)\n",
    "rmse_transformed = np.sqrt(mean_squared_error(y_test, y_pred_transformed))\n",
    "print(f\"RMSE (Transformed Data): {rmse_transformed:.4f}\")"
   ]
  },
  {
   "cell_type": "code",
   "execution_count": 25,
   "id": "4f35ed03-7f56-4e1b-b7be-9dc2fc4687f9",
   "metadata": {},
   "outputs": [
    {
     "name": "stdout",
     "output_type": "stream",
     "text": [
      "RMSE (Raw Data): 0.5053\n",
      "RMSE (Transformed Data): 0.5049\n",
      "Transformations improved performance by 0.09%\n"
     ]
    }
   ],
   "source": [
    "print(f\"RMSE (Raw Data): {rmse_raw:.4f}\")\n",
    "print(f\"RMSE (Transformed Data): {rmse_transformed:.4f}\")\n",
    "\n",
    "if rmse_transformed < rmse_raw:\n",
    "    improvement = ((rmse_raw - rmse_transformed) / rmse_raw) * 100\n",
    "    print(f\"Transformations improved performance by {improvement:.2f}%\")\n",
    "else:\n",
    "    print(\"Transformations did not improve performance.\")"
   ]
  }
 ],
 "metadata": {
  "kernelspec": {
   "display_name": "Python 3 (ipykernel)",
   "language": "python",
   "name": "python3"
  },
  "language_info": {
   "codemirror_mode": {
    "name": "ipython",
    "version": 3
   },
   "file_extension": ".py",
   "mimetype": "text/x-python",
   "name": "python",
   "nbconvert_exporter": "python",
   "pygments_lexer": "ipython3",
   "version": "3.12.4"
  }
 },
 "nbformat": 4,
 "nbformat_minor": 5
}
